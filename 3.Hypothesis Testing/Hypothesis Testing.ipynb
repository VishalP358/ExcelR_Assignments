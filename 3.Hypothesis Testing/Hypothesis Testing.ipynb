{
 "cells": [
  {
   "cell_type": "markdown",
   "id": "5a9bf2ce",
   "metadata": {},
   "source": [
    "## Q_1_Solution"
   ]
  },
  {
   "cell_type": "markdown",
   "id": "2ee2067b",
   "metadata": {},
   "source": [
    "### Consideration of hypothesis\n",
    "\n",
    "Null Hypothesis(H0) = mean1 == mean2  (There is no significant difference in diameter of cutlet between two units)\n",
    "\n",
    "Alternate Hypothesis(H1) = mean1 != mean2 (Significant difference exist in diameter of cutlet between two units)"
   ]
  },
  {
   "cell_type": "markdown",
   "id": "a47e244b",
   "metadata": {},
   "source": [
    "### Types of Test\n",
    "\n",
    "__Two sample, two tailed t test__\n",
    "\n",
    "#Two tailed test is selected as we are eqauting mean of two samples"
   ]
  },
  {
   "cell_type": "markdown",
   "id": "bfb2d659",
   "metadata": {},
   "source": [
    "### Level of significance\n",
    "\n",
    "LOS = 0.05"
   ]
  },
  {
   "cell_type": "markdown",
   "id": "ca98abb7",
   "metadata": {},
   "source": [
    "## t-test"
   ]
  },
  {
   "cell_type": "code",
   "execution_count": 2,
   "id": "40556b22",
   "metadata": {},
   "outputs": [],
   "source": [
    "import pandas as pd\n",
    "import scipy \n",
    "import numpy as np\n",
    "from scipy import stats"
   ]
  },
  {
   "cell_type": "code",
   "execution_count": 3,
   "id": "a0eab422",
   "metadata": {},
   "outputs": [
    {
     "data": {
      "text/html": [
       "<div>\n",
       "<style scoped>\n",
       "    .dataframe tbody tr th:only-of-type {\n",
       "        vertical-align: middle;\n",
       "    }\n",
       "\n",
       "    .dataframe tbody tr th {\n",
       "        vertical-align: top;\n",
       "    }\n",
       "\n",
       "    .dataframe thead th {\n",
       "        text-align: right;\n",
       "    }\n",
       "</style>\n",
       "<table border=\"1\" class=\"dataframe\">\n",
       "  <thead>\n",
       "    <tr style=\"text-align: right;\">\n",
       "      <th></th>\n",
       "      <th>Unit A</th>\n",
       "      <th>Unit B</th>\n",
       "    </tr>\n",
       "  </thead>\n",
       "  <tbody>\n",
       "    <tr>\n",
       "      <th>0</th>\n",
       "      <td>6.8090</td>\n",
       "      <td>6.7703</td>\n",
       "    </tr>\n",
       "    <tr>\n",
       "      <th>1</th>\n",
       "      <td>6.4376</td>\n",
       "      <td>7.5093</td>\n",
       "    </tr>\n",
       "    <tr>\n",
       "      <th>2</th>\n",
       "      <td>6.9157</td>\n",
       "      <td>6.7300</td>\n",
       "    </tr>\n",
       "    <tr>\n",
       "      <th>3</th>\n",
       "      <td>7.3012</td>\n",
       "      <td>6.7878</td>\n",
       "    </tr>\n",
       "    <tr>\n",
       "      <th>4</th>\n",
       "      <td>7.4488</td>\n",
       "      <td>7.1522</td>\n",
       "    </tr>\n",
       "  </tbody>\n",
       "</table>\n",
       "</div>"
      ],
      "text/plain": [
       "   Unit A  Unit B\n",
       "0  6.8090  6.7703\n",
       "1  6.4376  7.5093\n",
       "2  6.9157  6.7300\n",
       "3  7.3012  6.7878\n",
       "4  7.4488  7.1522"
      ]
     },
     "execution_count": 3,
     "metadata": {},
     "output_type": "execute_result"
    }
   ],
   "source": [
    "data = pd.read_csv(\"cutlets.csv\")\n",
    "data.head()"
   ]
  },
  {
   "cell_type": "code",
   "execution_count": 4,
   "id": "4771d826",
   "metadata": {},
   "outputs": [
    {
     "data": {
      "text/plain": [
       "Ttest_indResult(statistic=0.7228688704678063, pvalue=0.4722394724599501)"
      ]
     },
     "execution_count": 4,
     "metadata": {},
     "output_type": "execute_result"
    }
   ],
   "source": [
    "stats.ttest_ind(data['Unit A'],data['Unit B'])"
   ]
  },
  {
   "cell_type": "markdown",
   "id": "c745a72c",
   "metadata": {},
   "source": [
    "### Conclusion\n",
    "\n",
    "p_value = 0.4722\n",
    "\n",
    "As p_value > LOS(0.05)\n",
    "\n",
    "__Null Hypothesis is NOT rejected__\n",
    "\n",
    "__There is no significant difference in diameter of cutlet between two units__"
   ]
  },
  {
   "cell_type": "markdown",
   "id": "b2564240",
   "metadata": {},
   "source": [
    "## Q_2_Solution"
   ]
  },
  {
   "cell_type": "markdown",
   "id": "8876d63c",
   "metadata": {},
   "source": [
    "### Consideration of hypothesis\n",
    "\n",
    "Null Hypothesis(H0) = m1 == m2 == m3 == m4 (There is no significant difference in average Turn around time)\n",
    "\n",
    "Alternate Hypothesis(H1) = mean are not same (Significant difference exist in Turn around time of the four labs)"
   ]
  },
  {
   "cell_type": "markdown",
   "id": "d9874cd0",
   "metadata": {},
   "source": [
    "### Types of Test\n",
    "\n",
    "__one way ANOVA test__\n",
    "\n",
    "#Due to presence of more than two samples one way ANOVA test is chosen"
   ]
  },
  {
   "cell_type": "markdown",
   "id": "2e125a27",
   "metadata": {},
   "source": [
    "### Level of significance\n",
    "\n",
    "LOS = 0.05"
   ]
  },
  {
   "cell_type": "markdown",
   "id": "45ebd2a4",
   "metadata": {},
   "source": [
    "### One way anova test"
   ]
  },
  {
   "cell_type": "code",
   "execution_count": 6,
   "id": "ac50920e",
   "metadata": {},
   "outputs": [],
   "source": [
    "import pandas as pd\n",
    "import scipy.stats as stats\n",
    "import numpy as np\n"
   ]
  },
  {
   "cell_type": "code",
   "execution_count": 7,
   "id": "9a785632",
   "metadata": {},
   "outputs": [
    {
     "data": {
      "text/html": [
       "<div>\n",
       "<style scoped>\n",
       "    .dataframe tbody tr th:only-of-type {\n",
       "        vertical-align: middle;\n",
       "    }\n",
       "\n",
       "    .dataframe tbody tr th {\n",
       "        vertical-align: top;\n",
       "    }\n",
       "\n",
       "    .dataframe thead th {\n",
       "        text-align: right;\n",
       "    }\n",
       "</style>\n",
       "<table border=\"1\" class=\"dataframe\">\n",
       "  <thead>\n",
       "    <tr style=\"text-align: right;\">\n",
       "      <th></th>\n",
       "      <th>Laboratory 1</th>\n",
       "      <th>Laboratory 2</th>\n",
       "      <th>Laboratory 3</th>\n",
       "      <th>Laboratory 4</th>\n",
       "    </tr>\n",
       "  </thead>\n",
       "  <tbody>\n",
       "    <tr>\n",
       "      <th>0</th>\n",
       "      <td>185.35</td>\n",
       "      <td>165.53</td>\n",
       "      <td>176.70</td>\n",
       "      <td>166.13</td>\n",
       "    </tr>\n",
       "    <tr>\n",
       "      <th>1</th>\n",
       "      <td>170.49</td>\n",
       "      <td>185.91</td>\n",
       "      <td>198.45</td>\n",
       "      <td>160.79</td>\n",
       "    </tr>\n",
       "    <tr>\n",
       "      <th>2</th>\n",
       "      <td>192.77</td>\n",
       "      <td>194.92</td>\n",
       "      <td>201.23</td>\n",
       "      <td>185.18</td>\n",
       "    </tr>\n",
       "    <tr>\n",
       "      <th>3</th>\n",
       "      <td>177.33</td>\n",
       "      <td>183.00</td>\n",
       "      <td>199.61</td>\n",
       "      <td>176.42</td>\n",
       "    </tr>\n",
       "    <tr>\n",
       "      <th>4</th>\n",
       "      <td>193.41</td>\n",
       "      <td>169.57</td>\n",
       "      <td>204.63</td>\n",
       "      <td>152.60</td>\n",
       "    </tr>\n",
       "  </tbody>\n",
       "</table>\n",
       "</div>"
      ],
      "text/plain": [
       "   Laboratory 1  Laboratory 2  Laboratory 3  Laboratory 4\n",
       "0        185.35        165.53        176.70        166.13\n",
       "1        170.49        185.91        198.45        160.79\n",
       "2        192.77        194.92        201.23        185.18\n",
       "3        177.33        183.00        199.61        176.42\n",
       "4        193.41        169.57        204.63        152.60"
      ]
     },
     "execution_count": 7,
     "metadata": {},
     "output_type": "execute_result"
    }
   ],
   "source": [
    "lab = pd.read_csv(\"LabTAT.csv\")\n",
    "lab.head()"
   ]
  },
  {
   "cell_type": "code",
   "execution_count": 8,
   "id": "5a360862",
   "metadata": {},
   "outputs": [
    {
     "data": {
      "text/plain": [
       "F_onewayResult(statistic=118.70421654401437, pvalue=2.1156708949992414e-57)"
      ]
     },
     "execution_count": 8,
     "metadata": {},
     "output_type": "execute_result"
    }
   ],
   "source": [
    "stats.f_oneway(lab.iloc[:,0],lab.iloc[:,1],lab.iloc[:,2],lab.iloc[:,3])"
   ]
  },
  {
   "cell_type": "markdown",
   "id": "eeedfd02",
   "metadata": {},
   "source": [
    "### Conclusion\n",
    "\n",
    "p_value = 2.11e-57\n",
    "\n",
    "As p_value < LOS(0.05)\n",
    "\n",
    "__Null Hypothesis is rejected__\n",
    "\n",
    "__Significant difference exist in Turn around time of the four labs__"
   ]
  },
  {
   "cell_type": "markdown",
   "id": "4087def8",
   "metadata": {},
   "source": [
    "## Q_3_Solution"
   ]
  },
  {
   "cell_type": "markdown",
   "id": "2bc8f34f",
   "metadata": {},
   "source": [
    "### Consideration of hypothesis\n",
    "\n",
    "Null Hypothesis(H0) = The variables are independent, there is no relation between male-female buyer ratio\n",
    "\n",
    "Alternate Hypothesis(H1) = The variables are dependent, there is relation between male-female buyer ratio"
   ]
  },
  {
   "cell_type": "markdown",
   "id": "a212d51d",
   "metadata": {},
   "source": [
    "### Types of Test\n",
    "\n",
    "__Chi-square test__\n",
    "\n",
    "#Chi square test is selected as more than one sample of multiple variables are present"
   ]
  },
  {
   "cell_type": "markdown",
   "id": "bbc5501b",
   "metadata": {},
   "source": [
    "### Level of significance\n",
    "\n",
    "LOS = 0.05"
   ]
  },
  {
   "cell_type": "markdown",
   "id": "c4186b24",
   "metadata": {},
   "source": [
    "### Chi-square test"
   ]
  },
  {
   "cell_type": "code",
   "execution_count": 9,
   "id": "f425bbc8",
   "metadata": {},
   "outputs": [],
   "source": [
    "import pandas as pd\n",
    "import numpy as np\n",
    "import scipy.stats as stat\n",
    "from scipy.stats import chi2_contingency"
   ]
  },
  {
   "cell_type": "code",
   "execution_count": 10,
   "id": "45a1f6f8",
   "metadata": {},
   "outputs": [
    {
     "data": {
      "text/html": [
       "<div>\n",
       "<style scoped>\n",
       "    .dataframe tbody tr th:only-of-type {\n",
       "        vertical-align: middle;\n",
       "    }\n",
       "\n",
       "    .dataframe tbody tr th {\n",
       "        vertical-align: top;\n",
       "    }\n",
       "\n",
       "    .dataframe thead th {\n",
       "        text-align: right;\n",
       "    }\n",
       "</style>\n",
       "<table border=\"1\" class=\"dataframe\">\n",
       "  <thead>\n",
       "    <tr style=\"text-align: right;\">\n",
       "      <th></th>\n",
       "      <th>Observed Values</th>\n",
       "      <th>East</th>\n",
       "      <th>West</th>\n",
       "      <th>North</th>\n",
       "      <th>South</th>\n",
       "    </tr>\n",
       "  </thead>\n",
       "  <tbody>\n",
       "    <tr>\n",
       "      <th>0</th>\n",
       "      <td>Males</td>\n",
       "      <td>50</td>\n",
       "      <td>142</td>\n",
       "      <td>131</td>\n",
       "      <td>70</td>\n",
       "    </tr>\n",
       "    <tr>\n",
       "      <th>1</th>\n",
       "      <td>Females</td>\n",
       "      <td>435</td>\n",
       "      <td>1523</td>\n",
       "      <td>1356</td>\n",
       "      <td>750</td>\n",
       "    </tr>\n",
       "  </tbody>\n",
       "</table>\n",
       "</div>"
      ],
      "text/plain": [
       "  Observed Values  East  West  North  South\n",
       "0           Males    50   142    131     70\n",
       "1         Females   435  1523   1356    750"
      ]
     },
     "execution_count": 10,
     "metadata": {},
     "output_type": "execute_result"
    }
   ],
   "source": [
    "data = pd.read_csv(\"BuyerRatio.csv\")\n",
    "data"
   ]
  },
  {
   "cell_type": "code",
   "execution_count": 11,
   "id": "a6f18eb2",
   "metadata": {},
   "outputs": [
    {
     "data": {
      "text/html": [
       "<div>\n",
       "<style scoped>\n",
       "    .dataframe tbody tr th:only-of-type {\n",
       "        vertical-align: middle;\n",
       "    }\n",
       "\n",
       "    .dataframe tbody tr th {\n",
       "        vertical-align: top;\n",
       "    }\n",
       "\n",
       "    .dataframe thead th {\n",
       "        text-align: right;\n",
       "    }\n",
       "</style>\n",
       "<table border=\"1\" class=\"dataframe\">\n",
       "  <thead>\n",
       "    <tr style=\"text-align: right;\">\n",
       "      <th></th>\n",
       "      <th>East</th>\n",
       "      <th>West</th>\n",
       "      <th>North</th>\n",
       "      <th>South</th>\n",
       "    </tr>\n",
       "  </thead>\n",
       "  <tbody>\n",
       "    <tr>\n",
       "      <th>0</th>\n",
       "      <td>50</td>\n",
       "      <td>142</td>\n",
       "      <td>131</td>\n",
       "      <td>70</td>\n",
       "    </tr>\n",
       "    <tr>\n",
       "      <th>1</th>\n",
       "      <td>435</td>\n",
       "      <td>1523</td>\n",
       "      <td>1356</td>\n",
       "      <td>750</td>\n",
       "    </tr>\n",
       "  </tbody>\n",
       "</table>\n",
       "</div>"
      ],
      "text/plain": [
       "   East  West  North  South\n",
       "0    50   142    131     70\n",
       "1   435  1523   1356    750"
      ]
     },
     "execution_count": 11,
     "metadata": {},
     "output_type": "execute_result"
    }
   ],
   "source": [
    "data.drop([\"Observed Values\"],inplace = True,axis =1)    #inplace = True replaces old data with new changes\n",
    "data"
   ]
  },
  {
   "cell_type": "code",
   "execution_count": 12,
   "id": "4993c5e3",
   "metadata": {},
   "outputs": [
    {
     "name": "stdout",
     "output_type": "stream",
     "text": [
      "P_value for the test is 0.66\n"
     ]
    }
   ],
   "source": [
    "p_value = stat.chi2_contingency(data)[1]\n",
    "print(\"P_value for the test is\",np.round(p_value,3))"
   ]
  },
  {
   "cell_type": "markdown",
   "id": "1abf0d88",
   "metadata": {},
   "source": [
    "### Conclusion\n",
    "\n",
    "p_value = 0.66\n",
    "\n",
    "As p_value > LOS(0.05)\n",
    "\n",
    "__Null Hypothesis is not rejected__\n",
    "\n",
    "__The variables are independent, there is no relation between male-female buyer ratio__"
   ]
  },
  {
   "cell_type": "markdown",
   "id": "668dc1da",
   "metadata": {},
   "source": [
    "## Q_4_Solution"
   ]
  },
  {
   "cell_type": "markdown",
   "id": "c1c093de",
   "metadata": {},
   "source": [
    "### Consideration of hypothesis\n",
    "\n",
    "Null Hypothesis(H0) = The variables are independent, the defective % doesn't vary by centre\n",
    "\n",
    "Alternate Hypothesis(H1) = The variables are dependent,  the defective % varies by centre"
   ]
  },
  {
   "cell_type": "markdown",
   "id": "bf2861e2",
   "metadata": {},
   "source": [
    "### Types of Test\n",
    "\n",
    "__Chi-square test__\n",
    "\n",
    "#Chi square test is selected as more than one sample of multiple variables are present"
   ]
  },
  {
   "cell_type": "markdown",
   "id": "7f56b874",
   "metadata": {},
   "source": [
    "### Level of significance\n",
    "\n",
    "LOS = 0.05"
   ]
  },
  {
   "cell_type": "markdown",
   "id": "81c52eb2",
   "metadata": {},
   "source": [
    "### Chi-Square test"
   ]
  },
  {
   "cell_type": "code",
   "execution_count": 13,
   "id": "eadd241d",
   "metadata": {},
   "outputs": [],
   "source": [
    "import pandas as pd\n",
    "import numpy as np\n",
    "import scipy.stats as stat\n",
    "from scipy.stats import chi2_contingency"
   ]
  },
  {
   "cell_type": "code",
   "execution_count": 14,
   "id": "34072139",
   "metadata": {},
   "outputs": [
    {
     "data": {
      "text/html": [
       "<div>\n",
       "<style scoped>\n",
       "    .dataframe tbody tr th:only-of-type {\n",
       "        vertical-align: middle;\n",
       "    }\n",
       "\n",
       "    .dataframe tbody tr th {\n",
       "        vertical-align: top;\n",
       "    }\n",
       "\n",
       "    .dataframe thead th {\n",
       "        text-align: right;\n",
       "    }\n",
       "</style>\n",
       "<table border=\"1\" class=\"dataframe\">\n",
       "  <thead>\n",
       "    <tr style=\"text-align: right;\">\n",
       "      <th></th>\n",
       "      <th>Phillippines</th>\n",
       "      <th>Indonesia</th>\n",
       "      <th>Malta</th>\n",
       "      <th>India</th>\n",
       "    </tr>\n",
       "  </thead>\n",
       "  <tbody>\n",
       "    <tr>\n",
       "      <th>0</th>\n",
       "      <td>Error Free</td>\n",
       "      <td>Error Free</td>\n",
       "      <td>Defective</td>\n",
       "      <td>Error Free</td>\n",
       "    </tr>\n",
       "    <tr>\n",
       "      <th>1</th>\n",
       "      <td>Error Free</td>\n",
       "      <td>Error Free</td>\n",
       "      <td>Error Free</td>\n",
       "      <td>Defective</td>\n",
       "    </tr>\n",
       "    <tr>\n",
       "      <th>2</th>\n",
       "      <td>Error Free</td>\n",
       "      <td>Defective</td>\n",
       "      <td>Defective</td>\n",
       "      <td>Error Free</td>\n",
       "    </tr>\n",
       "    <tr>\n",
       "      <th>3</th>\n",
       "      <td>Error Free</td>\n",
       "      <td>Error Free</td>\n",
       "      <td>Error Free</td>\n",
       "      <td>Error Free</td>\n",
       "    </tr>\n",
       "    <tr>\n",
       "      <th>4</th>\n",
       "      <td>Error Free</td>\n",
       "      <td>Error Free</td>\n",
       "      <td>Defective</td>\n",
       "      <td>Error Free</td>\n",
       "    </tr>\n",
       "  </tbody>\n",
       "</table>\n",
       "</div>"
      ],
      "text/plain": [
       "  Phillippines   Indonesia       Malta       India\n",
       "0   Error Free  Error Free   Defective  Error Free\n",
       "1   Error Free  Error Free  Error Free   Defective\n",
       "2   Error Free   Defective   Defective  Error Free\n",
       "3   Error Free  Error Free  Error Free  Error Free\n",
       "4   Error Free  Error Free   Defective  Error Free"
      ]
     },
     "execution_count": 14,
     "metadata": {},
     "output_type": "execute_result"
    }
   ],
   "source": [
    "tele = pd.read_csv(\"Costomer+OrderForm.csv\")\n",
    "tele.head()"
   ]
  },
  {
   "cell_type": "code",
   "execution_count": 15,
   "id": "5a89cec8",
   "metadata": {},
   "outputs": [
    {
     "name": "stdout",
     "output_type": "stream",
     "text": [
      "Error Free    271\n",
      "Defective      29\n",
      "Name: Phillippines, dtype: int64 Error Free    267\n",
      "Defective      33\n",
      "Name: Indonesia, dtype: int64 Error Free    269\n",
      "Defective      31\n",
      "Name: Malta, dtype: int64 Error Free    280\n",
      "Defective      20\n",
      "Name: India, dtype: int64\n"
     ]
    }
   ],
   "source": [
    "print(tele[\"Phillippines\"].value_counts(),\n",
    "     tele[\"Indonesia\"].value_counts(),\n",
    "     tele[\"Malta\"].value_counts(),\n",
    "     tele[\"India\"].value_counts())"
   ]
  },
  {
   "cell_type": "code",
   "execution_count": 16,
   "id": "841b778e",
   "metadata": {},
   "outputs": [
    {
     "data": {
      "text/plain": [
       "array([[271, 267, 269, 280],\n",
       "       [ 29,  33,  31,  20]])"
      ]
     },
     "execution_count": 16,
     "metadata": {},
     "output_type": "execute_result"
    }
   ],
   "source": [
    "array = np.array([[271,267,269,280],[29,33,31,20]])\n",
    "array"
   ]
  },
  {
   "cell_type": "code",
   "execution_count": 17,
   "id": "6ca79305",
   "metadata": {},
   "outputs": [
    {
     "name": "stdout",
     "output_type": "stream",
     "text": [
      "P_value for the test is 0.277\n"
     ]
    }
   ],
   "source": [
    "p_value = stat.chi2_contingency(array)[1]\n",
    "print(\"P_value for the test is\",np.round(p_value,3))"
   ]
  },
  {
   "cell_type": "markdown",
   "id": "9cd44e3b",
   "metadata": {},
   "source": [
    "### Conclusion\n",
    "\n",
    "p_value = 0.277\n",
    "\n",
    "As p_value > LOS(0.05)\n",
    "\n",
    "__Null Hypothesis is not rejected__\n",
    "\n",
    "__The variables are independent, the defective % doesn't vary by centre__"
   ]
  },
  {
   "cell_type": "code",
   "execution_count": null,
   "id": "8e835341",
   "metadata": {},
   "outputs": [],
   "source": []
  }
 ],
 "metadata": {
  "kernelspec": {
   "display_name": "Python 3 (ipykernel)",
   "language": "python",
   "name": "python3"
  },
  "language_info": {
   "codemirror_mode": {
    "name": "ipython",
    "version": 3
   },
   "file_extension": ".py",
   "mimetype": "text/x-python",
   "name": "python",
   "nbconvert_exporter": "python",
   "pygments_lexer": "ipython3",
   "version": "3.9.12"
  }
 },
 "nbformat": 4,
 "nbformat_minor": 5
}
