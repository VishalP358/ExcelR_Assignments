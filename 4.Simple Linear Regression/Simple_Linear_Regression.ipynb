{
 "cells": [
  {
   "cell_type": "markdown",
   "id": "30e1de6d",
   "metadata": {},
   "source": [
    "## Predictiing delivery time from sorting time using Simple Linear Regression"
   ]
  },
  {
   "cell_type": "code",
   "execution_count": 1,
   "id": "8b9ba3b8",
   "metadata": {},
   "outputs": [],
   "source": [
    "# importing necessary libraries\n",
    "import pandas as pd \n",
    "import numpy as np\n",
    "import matplotlib.pyplot as plt\n",
    "import seaborn as sns\n",
    "import statsmodels.formula.api as smf\n",
    "import warnings\n",
    "warnings.filterwarnings(\"ignore\")"
   ]
  },
  {
   "cell_type": "code",
   "execution_count": 2,
   "id": "a7650295",
   "metadata": {},
   "outputs": [],
   "source": [
    "# importing the dataset\n",
    "data = pd.read_csv(\"C:/Users/Vishal Pawar/Downloads/delivery_time.csv\")"
   ]
  },
  {
   "cell_type": "code",
   "execution_count": 3,
   "id": "b229eb25",
   "metadata": {},
   "outputs": [
    {
     "data": {
      "text/html": [
       "<div>\n",
       "<style scoped>\n",
       "    .dataframe tbody tr th:only-of-type {\n",
       "        vertical-align: middle;\n",
       "    }\n",
       "\n",
       "    .dataframe tbody tr th {\n",
       "        vertical-align: top;\n",
       "    }\n",
       "\n",
       "    .dataframe thead th {\n",
       "        text-align: right;\n",
       "    }\n",
       "</style>\n",
       "<table border=\"1\" class=\"dataframe\">\n",
       "  <thead>\n",
       "    <tr style=\"text-align: right;\">\n",
       "      <th></th>\n",
       "      <th>Delivery Time</th>\n",
       "      <th>Sorting Time</th>\n",
       "    </tr>\n",
       "  </thead>\n",
       "  <tbody>\n",
       "    <tr>\n",
       "      <th>0</th>\n",
       "      <td>21.00</td>\n",
       "      <td>10</td>\n",
       "    </tr>\n",
       "    <tr>\n",
       "      <th>1</th>\n",
       "      <td>13.50</td>\n",
       "      <td>4</td>\n",
       "    </tr>\n",
       "    <tr>\n",
       "      <th>2</th>\n",
       "      <td>19.75</td>\n",
       "      <td>6</td>\n",
       "    </tr>\n",
       "    <tr>\n",
       "      <th>3</th>\n",
       "      <td>24.00</td>\n",
       "      <td>9</td>\n",
       "    </tr>\n",
       "    <tr>\n",
       "      <th>4</th>\n",
       "      <td>29.00</td>\n",
       "      <td>10</td>\n",
       "    </tr>\n",
       "    <tr>\n",
       "      <th>5</th>\n",
       "      <td>15.35</td>\n",
       "      <td>6</td>\n",
       "    </tr>\n",
       "    <tr>\n",
       "      <th>6</th>\n",
       "      <td>19.00</td>\n",
       "      <td>7</td>\n",
       "    </tr>\n",
       "    <tr>\n",
       "      <th>7</th>\n",
       "      <td>9.50</td>\n",
       "      <td>3</td>\n",
       "    </tr>\n",
       "    <tr>\n",
       "      <th>8</th>\n",
       "      <td>17.90</td>\n",
       "      <td>10</td>\n",
       "    </tr>\n",
       "    <tr>\n",
       "      <th>9</th>\n",
       "      <td>18.75</td>\n",
       "      <td>9</td>\n",
       "    </tr>\n",
       "    <tr>\n",
       "      <th>10</th>\n",
       "      <td>19.83</td>\n",
       "      <td>8</td>\n",
       "    </tr>\n",
       "    <tr>\n",
       "      <th>11</th>\n",
       "      <td>10.75</td>\n",
       "      <td>4</td>\n",
       "    </tr>\n",
       "    <tr>\n",
       "      <th>12</th>\n",
       "      <td>16.68</td>\n",
       "      <td>7</td>\n",
       "    </tr>\n",
       "    <tr>\n",
       "      <th>13</th>\n",
       "      <td>11.50</td>\n",
       "      <td>3</td>\n",
       "    </tr>\n",
       "    <tr>\n",
       "      <th>14</th>\n",
       "      <td>12.03</td>\n",
       "      <td>3</td>\n",
       "    </tr>\n",
       "    <tr>\n",
       "      <th>15</th>\n",
       "      <td>14.88</td>\n",
       "      <td>4</td>\n",
       "    </tr>\n",
       "    <tr>\n",
       "      <th>16</th>\n",
       "      <td>13.75</td>\n",
       "      <td>6</td>\n",
       "    </tr>\n",
       "    <tr>\n",
       "      <th>17</th>\n",
       "      <td>18.11</td>\n",
       "      <td>7</td>\n",
       "    </tr>\n",
       "    <tr>\n",
       "      <th>18</th>\n",
       "      <td>8.00</td>\n",
       "      <td>2</td>\n",
       "    </tr>\n",
       "    <tr>\n",
       "      <th>19</th>\n",
       "      <td>17.83</td>\n",
       "      <td>7</td>\n",
       "    </tr>\n",
       "    <tr>\n",
       "      <th>20</th>\n",
       "      <td>21.50</td>\n",
       "      <td>5</td>\n",
       "    </tr>\n",
       "  </tbody>\n",
       "</table>\n",
       "</div>"
      ],
      "text/plain": [
       "    Delivery Time  Sorting Time\n",
       "0           21.00            10\n",
       "1           13.50             4\n",
       "2           19.75             6\n",
       "3           24.00             9\n",
       "4           29.00            10\n",
       "5           15.35             6\n",
       "6           19.00             7\n",
       "7            9.50             3\n",
       "8           17.90            10\n",
       "9           18.75             9\n",
       "10          19.83             8\n",
       "11          10.75             4\n",
       "12          16.68             7\n",
       "13          11.50             3\n",
       "14          12.03             3\n",
       "15          14.88             4\n",
       "16          13.75             6\n",
       "17          18.11             7\n",
       "18           8.00             2\n",
       "19          17.83             7\n",
       "20          21.50             5"
      ]
     },
     "execution_count": 3,
     "metadata": {},
     "output_type": "execute_result"
    }
   ],
   "source": [
    "data"
   ]
  },
  {
   "cell_type": "code",
   "execution_count": 4,
   "id": "006a4188",
   "metadata": {},
   "outputs": [
    {
     "data": {
      "text/html": [
       "<div>\n",
       "<style scoped>\n",
       "    .dataframe tbody tr th:only-of-type {\n",
       "        vertical-align: middle;\n",
       "    }\n",
       "\n",
       "    .dataframe tbody tr th {\n",
       "        vertical-align: top;\n",
       "    }\n",
       "\n",
       "    .dataframe thead th {\n",
       "        text-align: right;\n",
       "    }\n",
       "</style>\n",
       "<table border=\"1\" class=\"dataframe\">\n",
       "  <thead>\n",
       "    <tr style=\"text-align: right;\">\n",
       "      <th></th>\n",
       "      <th>Delivery Time</th>\n",
       "      <th>Sorting Time</th>\n",
       "    </tr>\n",
       "  </thead>\n",
       "  <tbody>\n",
       "    <tr>\n",
       "      <th>count</th>\n",
       "      <td>21.000000</td>\n",
       "      <td>21.000000</td>\n",
       "    </tr>\n",
       "    <tr>\n",
       "      <th>mean</th>\n",
       "      <td>16.790952</td>\n",
       "      <td>6.190476</td>\n",
       "    </tr>\n",
       "    <tr>\n",
       "      <th>std</th>\n",
       "      <td>5.074901</td>\n",
       "      <td>2.542028</td>\n",
       "    </tr>\n",
       "    <tr>\n",
       "      <th>min</th>\n",
       "      <td>8.000000</td>\n",
       "      <td>2.000000</td>\n",
       "    </tr>\n",
       "    <tr>\n",
       "      <th>25%</th>\n",
       "      <td>13.500000</td>\n",
       "      <td>4.000000</td>\n",
       "    </tr>\n",
       "    <tr>\n",
       "      <th>50%</th>\n",
       "      <td>17.830000</td>\n",
       "      <td>6.000000</td>\n",
       "    </tr>\n",
       "    <tr>\n",
       "      <th>75%</th>\n",
       "      <td>19.750000</td>\n",
       "      <td>8.000000</td>\n",
       "    </tr>\n",
       "    <tr>\n",
       "      <th>max</th>\n",
       "      <td>29.000000</td>\n",
       "      <td>10.000000</td>\n",
       "    </tr>\n",
       "  </tbody>\n",
       "</table>\n",
       "</div>"
      ],
      "text/plain": [
       "       Delivery Time  Sorting Time\n",
       "count      21.000000     21.000000\n",
       "mean       16.790952      6.190476\n",
       "std         5.074901      2.542028\n",
       "min         8.000000      2.000000\n",
       "25%        13.500000      4.000000\n",
       "50%        17.830000      6.000000\n",
       "75%        19.750000      8.000000\n",
       "max        29.000000     10.000000"
      ]
     },
     "execution_count": 4,
     "metadata": {},
     "output_type": "execute_result"
    }
   ],
   "source": [
    "# descriptive statastics\n",
    "data.describe()"
   ]
  },
  {
   "cell_type": "code",
   "execution_count": 5,
   "id": "a9fda64a",
   "metadata": {},
   "outputs": [
    {
     "name": "stdout",
     "output_type": "stream",
     "text": [
      "<class 'pandas.core.frame.DataFrame'>\n",
      "RangeIndex: 21 entries, 0 to 20\n",
      "Data columns (total 2 columns):\n",
      " #   Column         Non-Null Count  Dtype  \n",
      "---  ------         --------------  -----  \n",
      " 0   Delivery Time  21 non-null     float64\n",
      " 1   Sorting Time   21 non-null     int64  \n",
      "dtypes: float64(1), int64(1)\n",
      "memory usage: 464.0 bytes\n"
     ]
    }
   ],
   "source": [
    "data.info()"
   ]
  },
  {
   "cell_type": "code",
   "execution_count": 6,
   "id": "4db9996b",
   "metadata": {},
   "outputs": [
    {
     "data": {
      "text/html": [
       "<div>\n",
       "<style scoped>\n",
       "    .dataframe tbody tr th:only-of-type {\n",
       "        vertical-align: middle;\n",
       "    }\n",
       "\n",
       "    .dataframe tbody tr th {\n",
       "        vertical-align: top;\n",
       "    }\n",
       "\n",
       "    .dataframe thead th {\n",
       "        text-align: right;\n",
       "    }\n",
       "</style>\n",
       "<table border=\"1\" class=\"dataframe\">\n",
       "  <thead>\n",
       "    <tr style=\"text-align: right;\">\n",
       "      <th></th>\n",
       "      <th>Delivery Time</th>\n",
       "      <th>Sorting Time</th>\n",
       "    </tr>\n",
       "  </thead>\n",
       "  <tbody>\n",
       "    <tr>\n",
       "      <th>Delivery Time</th>\n",
       "      <td>1.000000</td>\n",
       "      <td>0.825997</td>\n",
       "    </tr>\n",
       "    <tr>\n",
       "      <th>Sorting Time</th>\n",
       "      <td>0.825997</td>\n",
       "      <td>1.000000</td>\n",
       "    </tr>\n",
       "  </tbody>\n",
       "</table>\n",
       "</div>"
      ],
      "text/plain": [
       "               Delivery Time  Sorting Time\n",
       "Delivery Time       1.000000      0.825997\n",
       "Sorting Time        0.825997      1.000000"
      ]
     },
     "execution_count": 6,
     "metadata": {},
     "output_type": "execute_result"
    }
   ],
   "source": [
    "#correlation between the variables in a data\n",
    "data.corr()"
   ]
  },
  {
   "cell_type": "code",
   "execution_count": 7,
   "id": "612fb13e",
   "metadata": {},
   "outputs": [],
   "source": [
    "# changing column names for easy acess\n",
    "data = data.rename({'Delivery Time':'Delivery_Time','Sorting Time':'Sorting_Time'}, axis = 1)"
   ]
  },
  {
   "cell_type": "code",
   "execution_count": 8,
   "id": "7df54080",
   "metadata": {},
   "outputs": [
    {
     "data": {
      "text/plain": [
       "<matplotlib.legend.Legend at 0x1ab97146820>"
      ]
     },
     "execution_count": 8,
     "metadata": {},
     "output_type": "execute_result"
    },
    {
     "data": {
      "image/png": "[encoded data removed]",
      "text/plain": [
       "<Figure size 432x288 with 1 Axes>"
      ]
     },
     "metadata": {
      "needs_background": "light"
     },
     "output_type": "display_data"
    }
   ],
   "source": [
    "sns.distplot(data['Delivery_Time'],label = \"Delivery_Time\")\n",
    "plt.legend()"
   ]
  },
  {
   "cell_type": "code",
   "execution_count": 9,
   "id": "5f7b0df0",
   "metadata": {},
   "outputs": [
    {
     "data": {
      "text/plain": [
       "<matplotlib.legend.Legend at 0x1ab97146cd0>"
      ]
     },
     "execution_count": 9,
     "metadata": {},
     "output_type": "execute_result"
    },
    {
     "data": {
      "image/png": "[encoded data removed]",
      "text/plain": [
       "<Figure size 432x288 with 1 Axes>"
      ]
     },
     "metadata": {
      "needs_background": "light"
     },
     "output_type": "display_data"
    }
   ],
   "source": [
    "sns.distplot(data['Sorting_Time'],label = \"Sorting Time\")\n",
    "plt.legend()"
   ]
  },
  {
   "cell_type": "markdown",
   "id": "f7dcca12",
   "metadata": {},
   "source": [
    "## Fitting a linear regression model"
   ]
  },
  {
   "cell_type": "code",
   "execution_count": 10,
   "id": "4772ec62",
   "metadata": {},
   "outputs": [],
   "source": [
    "# without any transformation\n",
    "model = smf.ols(\"Delivery_Time~Sorting_Time\",data = data).fit()"
   ]
  },
  {
   "cell_type": "code",
   "execution_count": 11,
   "id": "04e78517",
   "metadata": {},
   "outputs": [
    {
     "data": {
      "text/plain": [
       "<AxesSubplot:xlabel='Sorting_Time', ylabel='Delivery_Time'>"
      ]
     },
     "execution_count": 11,
     "metadata": {},
     "output_type": "execute_result"
    },
    {
     "data": {
      "image/png": "[encoded data removed]",
      "text/plain": [
       "<Figure size 432x288 with 1 Axes>"
      ]
     },
     "metadata": {
      "needs_background": "light"
     },
     "output_type": "display_data"
    }
   ],
   "source": [
    "sns.regplot(x = \"Sorting_Time\", y = \"Delivery_Time\" , data = data )"
   ]
  },
  {
   "cell_type": "code",
   "execution_count": 12,
   "id": "32d360e4",
   "metadata": {},
   "outputs": [
    {
     "data": {
      "text/plain": [
       "Intercept       6.582734\n",
       "Sorting_Time    1.649020\n",
       "dtype: float64"
      ]
     },
     "execution_count": 12,
     "metadata": {},
     "output_type": "execute_result"
    }
   ],
   "source": [
    "model.params"
   ]
  },
  {
   "cell_type": "code",
   "execution_count": 13,
   "id": "1de338ce",
   "metadata": {},
   "outputs": [
    {
     "name": "stdout",
     "output_type": "stream",
     "text": [
      "Intercept       3.823349\n",
      "Sorting_Time    6.387447\n",
      "dtype: float64 \n",
      " Intercept       0.001147\n",
      "Sorting_Time    0.000004\n",
      "dtype: float64\n"
     ]
    }
   ],
   "source": [
    "print(model.tvalues, '\\n' ,model.pvalues)"
   ]
  },
  {
   "cell_type": "code",
   "execution_count": 14,
   "id": "36698ea4",
   "metadata": {},
   "outputs": [
    {
     "data": {
      "text/plain": [
       "(0.6822714748417231, 0.6655489208860244)"
      ]
     },
     "execution_count": 14,
     "metadata": {},
     "output_type": "execute_result"
    }
   ],
   "source": [
    "(model.rsquared,model.rsquared_adj)"
   ]
  },
  {
   "cell_type": "markdown",
   "id": "5d5e6561",
   "metadata": {},
   "source": [
    "## Predicting for new data point "
   ]
  },
  {
   "cell_type": "code",
   "execution_count": 15,
   "id": "104ff2cf",
   "metadata": {},
   "outputs": [],
   "source": [
    "newdata=pd.Series([4,8])"
   ]
  },
  {
   "cell_type": "code",
   "execution_count": 16,
   "id": "7a44dbd6",
   "metadata": {},
   "outputs": [],
   "source": [
    "# creating a dataframe for storing a new dataFrame\n",
    "data_pred = pd.DataFrame(newdata,columns=['Sorting_Time'])"
   ]
  },
  {
   "cell_type": "code",
   "execution_count": 17,
   "id": "d857b8f7",
   "metadata": {},
   "outputs": [
    {
     "data": {
      "text/html": [
       "<div>\n",
       "<style scoped>\n",
       "    .dataframe tbody tr th:only-of-type {\n",
       "        vertical-align: middle;\n",
       "    }\n",
       "\n",
       "    .dataframe tbody tr th {\n",
       "        vertical-align: top;\n",
       "    }\n",
       "\n",
       "    .dataframe thead th {\n",
       "        text-align: right;\n",
       "    }\n",
       "</style>\n",
       "<table border=\"1\" class=\"dataframe\">\n",
       "  <thead>\n",
       "    <tr style=\"text-align: right;\">\n",
       "      <th></th>\n",
       "      <th>Sorting_Time</th>\n",
       "    </tr>\n",
       "  </thead>\n",
       "  <tbody>\n",
       "    <tr>\n",
       "      <th>0</th>\n",
       "      <td>4</td>\n",
       "    </tr>\n",
       "    <tr>\n",
       "      <th>1</th>\n",
       "      <td>8</td>\n",
       "    </tr>\n",
       "  </tbody>\n",
       "</table>\n",
       "</div>"
      ],
      "text/plain": [
       "   Sorting_Time\n",
       "0             4\n",
       "1             8"
      ]
     },
     "execution_count": 17,
     "metadata": {},
     "output_type": "execute_result"
    }
   ],
   "source": [
    "data_pred"
   ]
  },
  {
   "cell_type": "code",
   "execution_count": 20,
   "id": "014c8192",
   "metadata": {},
   "outputs": [
    {
     "data": {
      "text/plain": [
       "0    13.178814\n",
       "1    19.774893\n",
       "dtype: float64"
      ]
     },
     "execution_count": 20,
     "metadata": {},
     "output_type": "execute_result"
    }
   ],
   "source": [
    "# predicting for new dataframe\n",
    "model.predict(data_pred)"
   ]
  },
  {
   "cell_type": "code",
   "execution_count": 21,
   "id": "1b150aa3",
   "metadata": {},
   "outputs": [],
   "source": [
    "x_log = np.log(data['Sorting_Time'])\n",
    "y_log = np.log(data['Delivery_Time'])\n",
    "x_sqrt = np.sqrt(data['Sorting_Time'])\n",
    "y_sqrt = np.sqrt(data['Delivery_Time'])"
   ]
  },
  {
   "cell_type": "code",
   "execution_count": 22,
   "id": "c33cef7c",
   "metadata": {},
   "outputs": [],
   "source": [
    "data['log_sorting_time'] = x_log\n",
    "data['log_delivery_time'] = y_log\n",
    "data['sqrt_sorting_time'] = x_sqrt\n",
    "data['sqrt_delivery_time'] = y_sqrt"
   ]
  },
  {
   "cell_type": "code",
   "execution_count": 23,
   "id": "e8c39d17",
   "metadata": {},
   "outputs": [
    {
     "data": {
      "text/html": [
       "<div>\n",
       "<style scoped>\n",
       "    .dataframe tbody tr th:only-of-type {\n",
       "        vertical-align: middle;\n",
       "    }\n",
       "\n",
       "    .dataframe tbody tr th {\n",
       "        vertical-align: top;\n",
       "    }\n",
       "\n",
       "    .dataframe thead th {\n",
       "        text-align: right;\n",
       "    }\n",
       "</style>\n",
       "<table border=\"1\" class=\"dataframe\">\n",
       "  <thead>\n",
       "    <tr style=\"text-align: right;\">\n",
       "      <th></th>\n",
       "      <th>Delivery_Time</th>\n",
       "      <th>Sorting_Time</th>\n",
       "      <th>log_sorting_time</th>\n",
       "      <th>log_delivery_time</th>\n",
       "      <th>sqrt_sorting_time</th>\n",
       "      <th>sqrt_delivery_time</th>\n",
       "    </tr>\n",
       "  </thead>\n",
       "  <tbody>\n",
       "    <tr>\n",
       "      <th>0</th>\n",
       "      <td>21.00</td>\n",
       "      <td>10</td>\n",
       "      <td>2.302585</td>\n",
       "      <td>3.044522</td>\n",
       "      <td>3.162278</td>\n",
       "      <td>4.582576</td>\n",
       "    </tr>\n",
       "    <tr>\n",
       "      <th>1</th>\n",
       "      <td>13.50</td>\n",
       "      <td>4</td>\n",
       "      <td>1.386294</td>\n",
       "      <td>2.602690</td>\n",
       "      <td>2.000000</td>\n",
       "      <td>3.674235</td>\n",
       "    </tr>\n",
       "    <tr>\n",
       "      <th>2</th>\n",
       "      <td>19.75</td>\n",
       "      <td>6</td>\n",
       "      <td>1.791759</td>\n",
       "      <td>2.983153</td>\n",
       "      <td>2.449490</td>\n",
       "      <td>4.444097</td>\n",
       "    </tr>\n",
       "    <tr>\n",
       "      <th>3</th>\n",
       "      <td>24.00</td>\n",
       "      <td>9</td>\n",
       "      <td>2.197225</td>\n",
       "      <td>3.178054</td>\n",
       "      <td>3.000000</td>\n",
       "      <td>4.898979</td>\n",
       "    </tr>\n",
       "    <tr>\n",
       "      <th>4</th>\n",
       "      <td>29.00</td>\n",
       "      <td>10</td>\n",
       "      <td>2.302585</td>\n",
       "      <td>3.367296</td>\n",
       "      <td>3.162278</td>\n",
       "      <td>5.385165</td>\n",
       "    </tr>\n",
       "    <tr>\n",
       "      <th>5</th>\n",
       "      <td>15.35</td>\n",
       "      <td>6</td>\n",
       "      <td>1.791759</td>\n",
       "      <td>2.731115</td>\n",
       "      <td>2.449490</td>\n",
       "      <td>3.917908</td>\n",
       "    </tr>\n",
       "    <tr>\n",
       "      <th>6</th>\n",
       "      <td>19.00</td>\n",
       "      <td>7</td>\n",
       "      <td>1.945910</td>\n",
       "      <td>2.944439</td>\n",
       "      <td>2.645751</td>\n",
       "      <td>4.358899</td>\n",
       "    </tr>\n",
       "    <tr>\n",
       "      <th>7</th>\n",
       "      <td>9.50</td>\n",
       "      <td>3</td>\n",
       "      <td>1.098612</td>\n",
       "      <td>2.251292</td>\n",
       "      <td>1.732051</td>\n",
       "      <td>3.082207</td>\n",
       "    </tr>\n",
       "    <tr>\n",
       "      <th>8</th>\n",
       "      <td>17.90</td>\n",
       "      <td>10</td>\n",
       "      <td>2.302585</td>\n",
       "      <td>2.884801</td>\n",
       "      <td>3.162278</td>\n",
       "      <td>4.230839</td>\n",
       "    </tr>\n",
       "    <tr>\n",
       "      <th>9</th>\n",
       "      <td>18.75</td>\n",
       "      <td>9</td>\n",
       "      <td>2.197225</td>\n",
       "      <td>2.931194</td>\n",
       "      <td>3.000000</td>\n",
       "      <td>4.330127</td>\n",
       "    </tr>\n",
       "    <tr>\n",
       "      <th>10</th>\n",
       "      <td>19.83</td>\n",
       "      <td>8</td>\n",
       "      <td>2.079442</td>\n",
       "      <td>2.987196</td>\n",
       "      <td>2.828427</td>\n",
       "      <td>4.453089</td>\n",
       "    </tr>\n",
       "    <tr>\n",
       "      <th>11</th>\n",
       "      <td>10.75</td>\n",
       "      <td>4</td>\n",
       "      <td>1.386294</td>\n",
       "      <td>2.374906</td>\n",
       "      <td>2.000000</td>\n",
       "      <td>3.278719</td>\n",
       "    </tr>\n",
       "    <tr>\n",
       "      <th>12</th>\n",
       "      <td>16.68</td>\n",
       "      <td>7</td>\n",
       "      <td>1.945910</td>\n",
       "      <td>2.814210</td>\n",
       "      <td>2.645751</td>\n",
       "      <td>4.084116</td>\n",
       "    </tr>\n",
       "    <tr>\n",
       "      <th>13</th>\n",
       "      <td>11.50</td>\n",
       "      <td>3</td>\n",
       "      <td>1.098612</td>\n",
       "      <td>2.442347</td>\n",
       "      <td>1.732051</td>\n",
       "      <td>3.391165</td>\n",
       "    </tr>\n",
       "    <tr>\n",
       "      <th>14</th>\n",
       "      <td>12.03</td>\n",
       "      <td>3</td>\n",
       "      <td>1.098612</td>\n",
       "      <td>2.487404</td>\n",
       "      <td>1.732051</td>\n",
       "      <td>3.468429</td>\n",
       "    </tr>\n",
       "    <tr>\n",
       "      <th>15</th>\n",
       "      <td>14.88</td>\n",
       "      <td>4</td>\n",
       "      <td>1.386294</td>\n",
       "      <td>2.700018</td>\n",
       "      <td>2.000000</td>\n",
       "      <td>3.857460</td>\n",
       "    </tr>\n",
       "    <tr>\n",
       "      <th>16</th>\n",
       "      <td>13.75</td>\n",
       "      <td>6</td>\n",
       "      <td>1.791759</td>\n",
       "      <td>2.621039</td>\n",
       "      <td>2.449490</td>\n",
       "      <td>3.708099</td>\n",
       "    </tr>\n",
       "    <tr>\n",
       "      <th>17</th>\n",
       "      <td>18.11</td>\n",
       "      <td>7</td>\n",
       "      <td>1.945910</td>\n",
       "      <td>2.896464</td>\n",
       "      <td>2.645751</td>\n",
       "      <td>4.255585</td>\n",
       "    </tr>\n",
       "    <tr>\n",
       "      <th>18</th>\n",
       "      <td>8.00</td>\n",
       "      <td>2</td>\n",
       "      <td>0.693147</td>\n",
       "      <td>2.079442</td>\n",
       "      <td>1.414214</td>\n",
       "      <td>2.828427</td>\n",
       "    </tr>\n",
       "    <tr>\n",
       "      <th>19</th>\n",
       "      <td>17.83</td>\n",
       "      <td>7</td>\n",
       "      <td>1.945910</td>\n",
       "      <td>2.880882</td>\n",
       "      <td>2.645751</td>\n",
       "      <td>4.222558</td>\n",
       "    </tr>\n",
       "    <tr>\n",
       "      <th>20</th>\n",
       "      <td>21.50</td>\n",
       "      <td>5</td>\n",
       "      <td>1.609438</td>\n",
       "      <td>3.068053</td>\n",
       "      <td>2.236068</td>\n",
       "      <td>4.636809</td>\n",
       "    </tr>\n",
       "  </tbody>\n",
       "</table>\n",
       "</div>"
      ],
      "text/plain": [
       "    Delivery_Time  Sorting_Time  log_sorting_time  log_delivery_time  \\\n",
       "0           21.00            10          2.302585           3.044522   \n",
       "1           13.50             4          1.386294           2.602690   \n",
       "2           19.75             6          1.791759           2.983153   \n",
       "3           24.00             9          2.197225           3.178054   \n",
       "4           29.00            10          2.302585           3.367296   \n",
       "5           15.35             6          1.791759           2.731115   \n",
       "6           19.00             7          1.945910           2.944439   \n",
       "7            9.50             3          1.098612           2.251292   \n",
       "8           17.90            10          2.302585           2.884801   \n",
       "9           18.75             9          2.197225           2.931194   \n",
       "10          19.83             8          2.079442           2.987196   \n",
       "11          10.75             4          1.386294           2.374906   \n",
       "12          16.68             7          1.945910           2.814210   \n",
       "13          11.50             3          1.098612           2.442347   \n",
       "14          12.03             3          1.098612           2.487404   \n",
       "15          14.88             4          1.386294           2.700018   \n",
       "16          13.75             6          1.791759           2.621039   \n",
       "17          18.11             7          1.945910           2.896464   \n",
       "18           8.00             2          0.693147           2.079442   \n",
       "19          17.83             7          1.945910           2.880882   \n",
       "20          21.50             5          1.609438           3.068053   \n",
       "\n",
       "    sqrt_sorting_time  sqrt_delivery_time  \n",
       "0            3.162278            4.582576  \n",
       "1            2.000000            3.674235  \n",
       "2            2.449490            4.444097  \n",
       "3            3.000000            4.898979  \n",
       "4            3.162278            5.385165  \n",
       "5            2.449490            3.917908  \n",
       "6            2.645751            4.358899  \n",
       "7            1.732051            3.082207  \n",
       "8            3.162278            4.230839  \n",
       "9            3.000000            4.330127  \n",
       "10           2.828427            4.453089  \n",
       "11           2.000000            3.278719  \n",
       "12           2.645751            4.084116  \n",
       "13           1.732051            3.391165  \n",
       "14           1.732051            3.468429  \n",
       "15           2.000000            3.857460  \n",
       "16           2.449490            3.708099  \n",
       "17           2.645751            4.255585  \n",
       "18           1.414214            2.828427  \n",
       "19           2.645751            4.222558  \n",
       "20           2.236068            4.636809  "
      ]
     },
     "execution_count": 23,
     "metadata": {},
     "output_type": "execute_result"
    }
   ],
   "source": [
    "data"
   ]
  },
  {
   "cell_type": "code",
   "execution_count": 24,
   "id": "bb961682",
   "metadata": {},
   "outputs": [
    {
     "name": "stdout",
     "output_type": "stream",
     "text": [
      "Intercept           0.472460\n",
      "log_sorting_time    6.586789\n",
      "dtype: float64 \n",
      " Intercept           0.641980\n",
      "log_sorting_time    0.000003\n",
      "dtype: float64\n",
      "rsquared value is 0.6954434611324223 using log transformation on input variable\n"
     ]
    }
   ],
   "source": [
    "model1 = smf.ols(\"Delivery_Time~log_sorting_time\",data = data).fit()\n",
    "print(model1.tvalues, '\\n' ,model1.pvalues)\n",
    "print('rsquared value is {} using log transformation on input variable'.format(model1.rsquared,model1.rsquared_adj))"
   ]
  },
  {
   "cell_type": "code",
   "execution_count": 25,
   "id": "dd93132c",
   "metadata": {},
   "outputs": [
    {
     "name": "stdout",
     "output_type": "stream",
     "text": [
      "Intercept       20.601357\n",
      "Sorting_Time     6.836088\n",
      "dtype: float64 \n",
      " Intercept       1.857343e-14\n",
      "Sorting_Time    1.592708e-06\n",
      "dtype: float64\n",
      "rsquared value is 0.7109478980584187 using log transformation on Target variable\n"
     ]
    }
   ],
   "source": [
    "model2 = smf.ols(\"log_delivery_time~Sorting_Time\",data = data).fit()\n",
    "print(model2.tvalues, '\\n' ,model2.pvalues)\n",
    "print('rsquared value is {} using log transformation on Target variable'.format(model2.rsquared,model2.rsquared_adj))"
   ]
  },
  {
   "cell_type": "code",
   "execution_count": 26,
   "id": "15a1f54f",
   "metadata": {},
   "outputs": [
    {
     "name": "stdout",
     "output_type": "stream",
     "text": [
      "Intercept           13.085552\n",
      "log_sorting_time     8.024484\n",
      "dtype: float64 \n",
      " Intercept           5.921137e-11\n",
      "log_sorting_time    1.601539e-07\n",
      "dtype: float64\n",
      "rsquared value is 0.77216134926874 using log transformation on both input and target variable\n"
     ]
    }
   ],
   "source": [
    "model3 = smf.ols(\"log_delivery_time~log_sorting_time\",data = data).fit()\n",
    "print(model3.tvalues, '\\n' ,model3.pvalues)\n",
    "print('rsquared value is {} using log transformation on both input and target variable'.format(model3.rsquared,model3.rsquared_adj))"
   ]
  },
  {
   "cell_type": "code",
   "execution_count": 27,
   "id": "7ea82a43",
   "metadata": {},
   "outputs": [
    {
     "name": "stdout",
     "output_type": "stream",
     "text": [
      "Intercept           -0.840911\n",
      "sqrt_sorting_time    6.592434\n",
      "dtype: float64 \n",
      " Intercept            0.410857\n",
      "sqrt_sorting_time    0.000003\n",
      "dtype: float64\n",
      "rsquared value is 0.6958062276308671 using sqrt transformation on input variable\n"
     ]
    }
   ],
   "source": [
    "model4 = smf.ols(\"Delivery_Time~sqrt_sorting_time\",data = data).fit()\n",
    "print(model4.tvalues, '\\n' ,model4.pvalues)\n",
    "print('rsquared value is {} using sqrt transformation on input variable'.format(model4.rsquared,model4.rsquared_adj))"
   ]
  },
  {
   "cell_type": "code",
   "execution_count": 28,
   "id": "b04cf412",
   "metadata": {},
   "outputs": [
    {
     "name": "stdout",
     "output_type": "stream",
     "text": [
      "Intercept       13.527452\n",
      "Sorting_Time     6.723095\n",
      "dtype: float64 \n",
      " Intercept       3.339366e-11\n",
      "Sorting_Time    2.001215e-06\n",
      "dtype: float64\n",
      "rsquared value is 0.704049871541756 using sqrt transformation on Target variable\n"
     ]
    }
   ],
   "source": [
    "model5 = smf.ols(\"sqrt_delivery_time~Sorting_Time\",data = data).fit()\n",
    "print(model5.tvalues, '\\n' ,model5.pvalues)\n",
    "print('rsquared value is {} using sqrt transformation on Target variable'.format(model5.rsquared,model5.rsquared_adj))"
   ]
  },
  {
   "cell_type": "code",
   "execution_count": 29,
   "id": "24a55a1b",
   "metadata": {},
   "outputs": [
    {
     "name": "stdout",
     "output_type": "stream",
     "text": [
      "Intercept            4.628248\n",
      "sqrt_sorting_time    7.152817\n",
      "dtype: float64 \n",
      " Intercept            1.833621e-04\n",
      "sqrt_sorting_time    8.475706e-07\n",
      "dtype: float64\n",
      "rsquared value is 0.7292011987544664 using sqrt transformation on both Target and inpit variable\n"
     ]
    }
   ],
   "source": [
    "model6 = smf.ols(\"sqrt_delivery_time~sqrt_sorting_time\",data = data).fit()\n",
    "print(model6.tvalues, '\\n' ,model6.pvalues)\n",
    "print('rsquared value is {} using sqrt transformation on both Target and inpit variable'.format(model6.rsquared,model6.rsquared_adj))"
   ]
  },
  {
   "cell_type": "markdown",
   "id": "075052dd",
   "metadata": {},
   "source": [
    "###  From the above observations we can see that with the log transformation of the both input and output variables we have the best R squared value which explains the 77% variations"
   ]
  },
  {
   "cell_type": "markdown",
   "id": "9751d8ac",
   "metadata": {},
   "source": [
    "## Predicting Salary Hike"
   ]
  },
  {
   "cell_type": "code",
   "execution_count": 30,
   "id": "e655439e",
   "metadata": {},
   "outputs": [],
   "source": [
    "# importng dataset\n",
    "df = pd.read_csv(\"C:/Users/Vishal Pawar/Downloads/Salary_Data.csv\")"
   ]
  },
  {
   "cell_type": "code",
   "execution_count": 31,
   "id": "277ceac0",
   "metadata": {},
   "outputs": [
    {
     "data": {
      "text/html": [
       "<div>\n",
       "<style scoped>\n",
       "    .dataframe tbody tr th:only-of-type {\n",
       "        vertical-align: middle;\n",
       "    }\n",
       "\n",
       "    .dataframe tbody tr th {\n",
       "        vertical-align: top;\n",
       "    }\n",
       "\n",
       "    .dataframe thead th {\n",
       "        text-align: right;\n",
       "    }\n",
       "</style>\n",
       "<table border=\"1\" class=\"dataframe\">\n",
       "  <thead>\n",
       "    <tr style=\"text-align: right;\">\n",
       "      <th></th>\n",
       "      <th>YearsExperience</th>\n",
       "      <th>Salary</th>\n",
       "    </tr>\n",
       "  </thead>\n",
       "  <tbody>\n",
       "    <tr>\n",
       "      <th>0</th>\n",
       "      <td>1.1</td>\n",
       "      <td>39343.0</td>\n",
       "    </tr>\n",
       "    <tr>\n",
       "      <th>1</th>\n",
       "      <td>1.3</td>\n",
       "      <td>46205.0</td>\n",
       "    </tr>\n",
       "    <tr>\n",
       "      <th>2</th>\n",
       "      <td>1.5</td>\n",
       "      <td>37731.0</td>\n",
       "    </tr>\n",
       "    <tr>\n",
       "      <th>3</th>\n",
       "      <td>2.0</td>\n",
       "      <td>43525.0</td>\n",
       "    </tr>\n",
       "    <tr>\n",
       "      <th>4</th>\n",
       "      <td>2.2</td>\n",
       "      <td>39891.0</td>\n",
       "    </tr>\n",
       "  </tbody>\n",
       "</table>\n",
       "</div>"
      ],
      "text/plain": [
       "   YearsExperience   Salary\n",
       "0              1.1  39343.0\n",
       "1              1.3  46205.0\n",
       "2              1.5  37731.0\n",
       "3              2.0  43525.0\n",
       "4              2.2  39891.0"
      ]
     },
     "execution_count": 31,
     "metadata": {},
     "output_type": "execute_result"
    }
   ],
   "source": [
    "df.head()"
   ]
  },
  {
   "cell_type": "code",
   "execution_count": 32,
   "id": "0aa3acc0",
   "metadata": {},
   "outputs": [
    {
     "name": "stdout",
     "output_type": "stream",
     "text": [
      "<class 'pandas.core.frame.DataFrame'>\n",
      "RangeIndex: 30 entries, 0 to 29\n",
      "Data columns (total 2 columns):\n",
      " #   Column           Non-Null Count  Dtype  \n",
      "---  ------           --------------  -----  \n",
      " 0   YearsExperience  30 non-null     float64\n",
      " 1   Salary           30 non-null     float64\n",
      "dtypes: float64(2)\n",
      "memory usage: 608.0 bytes\n"
     ]
    }
   ],
   "source": [
    "df.info()"
   ]
  },
  {
   "cell_type": "code",
   "execution_count": 33,
   "id": "634d99d7",
   "metadata": {},
   "outputs": [
    {
     "data": {
      "text/html": [
       "<div>\n",
       "<style scoped>\n",
       "    .dataframe tbody tr th:only-of-type {\n",
       "        vertical-align: middle;\n",
       "    }\n",
       "\n",
       "    .dataframe tbody tr th {\n",
       "        vertical-align: top;\n",
       "    }\n",
       "\n",
       "    .dataframe thead th {\n",
       "        text-align: right;\n",
       "    }\n",
       "</style>\n",
       "<table border=\"1\" class=\"dataframe\">\n",
       "  <thead>\n",
       "    <tr style=\"text-align: right;\">\n",
       "      <th></th>\n",
       "      <th>YearsExperience</th>\n",
       "      <th>Salary</th>\n",
       "    </tr>\n",
       "  </thead>\n",
       "  <tbody>\n",
       "    <tr>\n",
       "      <th>count</th>\n",
       "      <td>30.000000</td>\n",
       "      <td>30.000000</td>\n",
       "    </tr>\n",
       "    <tr>\n",
       "      <th>mean</th>\n",
       "      <td>5.313333</td>\n",
       "      <td>76003.000000</td>\n",
       "    </tr>\n",
       "    <tr>\n",
       "      <th>std</th>\n",
       "      <td>2.837888</td>\n",
       "      <td>27414.429785</td>\n",
       "    </tr>\n",
       "    <tr>\n",
       "      <th>min</th>\n",
       "      <td>1.100000</td>\n",
       "      <td>37731.000000</td>\n",
       "    </tr>\n",
       "    <tr>\n",
       "      <th>25%</th>\n",
       "      <td>3.200000</td>\n",
       "      <td>56720.750000</td>\n",
       "    </tr>\n",
       "    <tr>\n",
       "      <th>50%</th>\n",
       "      <td>4.700000</td>\n",
       "      <td>65237.000000</td>\n",
       "    </tr>\n",
       "    <tr>\n",
       "      <th>75%</th>\n",
       "      <td>7.700000</td>\n",
       "      <td>100544.750000</td>\n",
       "    </tr>\n",
       "    <tr>\n",
       "      <th>max</th>\n",
       "      <td>10.500000</td>\n",
       "      <td>122391.000000</td>\n",
       "    </tr>\n",
       "  </tbody>\n",
       "</table>\n",
       "</div>"
      ],
      "text/plain": [
       "       YearsExperience         Salary\n",
       "count        30.000000      30.000000\n",
       "mean          5.313333   76003.000000\n",
       "std           2.837888   27414.429785\n",
       "min           1.100000   37731.000000\n",
       "25%           3.200000   56720.750000\n",
       "50%           4.700000   65237.000000\n",
       "75%           7.700000  100544.750000\n",
       "max          10.500000  122391.000000"
      ]
     },
     "execution_count": 33,
     "metadata": {},
     "output_type": "execute_result"
    }
   ],
   "source": [
    "# descriptive statastics\n",
    "df.describe()"
   ]
  },
  {
   "cell_type": "code",
   "execution_count": 34,
   "id": "22edee32",
   "metadata": {},
   "outputs": [
    {
     "data": {
      "text/html": [
       "<div>\n",
       "<style scoped>\n",
       "    .dataframe tbody tr th:only-of-type {\n",
       "        vertical-align: middle;\n",
       "    }\n",
       "\n",
       "    .dataframe tbody tr th {\n",
       "        vertical-align: top;\n",
       "    }\n",
       "\n",
       "    .dataframe thead th {\n",
       "        text-align: right;\n",
       "    }\n",
       "</style>\n",
       "<table border=\"1\" class=\"dataframe\">\n",
       "  <thead>\n",
       "    <tr style=\"text-align: right;\">\n",
       "      <th></th>\n",
       "      <th>YearsExperience</th>\n",
       "      <th>Salary</th>\n",
       "    </tr>\n",
       "  </thead>\n",
       "  <tbody>\n",
       "    <tr>\n",
       "      <th>YearsExperience</th>\n",
       "      <td>1.000000</td>\n",
       "      <td>0.978242</td>\n",
       "    </tr>\n",
       "    <tr>\n",
       "      <th>Salary</th>\n",
       "      <td>0.978242</td>\n",
       "      <td>1.000000</td>\n",
       "    </tr>\n",
       "  </tbody>\n",
       "</table>\n",
       "</div>"
      ],
      "text/plain": [
       "                 YearsExperience    Salary\n",
       "YearsExperience         1.000000  0.978242\n",
       "Salary                  0.978242  1.000000"
      ]
     },
     "execution_count": 34,
     "metadata": {},
     "output_type": "execute_result"
    }
   ],
   "source": [
    "# correlation \n",
    "df.corr()"
   ]
  },
  {
   "cell_type": "code",
   "execution_count": 35,
   "id": "52eb5536",
   "metadata": {},
   "outputs": [
    {
     "data": {
      "text/plain": [
       "<matplotlib.legend.Legend at 0x1ab97f21ac0>"
      ]
     },
     "execution_count": 35,
     "metadata": {},
     "output_type": "execute_result"
    },
    {
     "data": {
      "image/png": "[encoded data removed]",
      "text/plain": [
       "<Figure size 432x288 with 1 Axes>"
      ]
     },
     "metadata": {
      "needs_background": "light"
     },
     "output_type": "display_data"
    }
   ],
   "source": [
    "sns.distplot(df['YearsExperience'],label = \"YearsExperience\")\n",
    "plt.legend()"
   ]
  },
  {
   "cell_type": "code",
   "execution_count": 36,
   "id": "dc2fd019",
   "metadata": {},
   "outputs": [
    {
     "data": {
      "text/plain": [
       "<matplotlib.legend.Legend at 0x1ab97f70580>"
      ]
     },
     "execution_count": 36,
     "metadata": {},
     "output_type": "execute_result"
    },
    {
     "data": {
      "image/png": "[encoded data removed]",
      "text/plain": [
       "<Figure size 432x288 with 1 Axes>"
      ]
     },
     "metadata": {
      "needs_background": "light"
     },
     "output_type": "display_data"
    }
   ],
   "source": [
    "sns.distplot(df['Salary'],label = \"Salary\")\n",
    "plt.legend()"
   ]
  },
  {
   "cell_type": "markdown",
   "id": "d7c5272c",
   "metadata": {},
   "source": [
    "## Fitting a linear regression model"
   ]
  },
  {
   "cell_type": "code",
   "execution_count": 37,
   "id": "09cd86e3",
   "metadata": {},
   "outputs": [],
   "source": [
    "model1 = smf.ols(\"Salary~YearsExperience\", data = df).fit()"
   ]
  },
  {
   "cell_type": "code",
   "execution_count": 38,
   "id": "258cd833",
   "metadata": {},
   "outputs": [
    {
     "data": {
      "text/plain": [
       "<AxesSubplot:xlabel='YearsExperience', ylabel='Salary'>"
      ]
     },
     "execution_count": 38,
     "metadata": {},
     "output_type": "execute_result"
    },
    {
     "data": {
      "image/png": "[encoded data removed]",
      "text/plain": [
       "<Figure size 432x288 with 1 Axes>"
      ]
     },
     "metadata": {
      "needs_background": "light"
     },
     "output_type": "display_data"
    }
   ],
   "source": [
    "sns.regplot(x = \"YearsExperience\", y =\"Salary\",data = df)"
   ]
  },
  {
   "cell_type": "code",
   "execution_count": 39,
   "id": "b5e73c72",
   "metadata": {},
   "outputs": [
    {
     "data": {
      "text/plain": [
       "Intercept          25792.200199\n",
       "YearsExperience     9449.962321\n",
       "dtype: float64"
      ]
     },
     "execution_count": 39,
     "metadata": {},
     "output_type": "execute_result"
    }
   ],
   "source": [
    "model1.params"
   ]
  },
  {
   "cell_type": "code",
   "execution_count": 40,
   "id": "a58f5a64",
   "metadata": {},
   "outputs": [
    {
     "name": "stdout",
     "output_type": "stream",
     "text": [
      "Intercept          11.346940\n",
      "YearsExperience    24.950094\n",
      "dtype: float64 \n",
      " Intercept          5.511950e-12\n",
      "YearsExperience    1.143068e-20\n",
      "dtype: float64\n"
     ]
    }
   ],
   "source": [
    "print(model1.tvalues, '\\n' ,model1.pvalues)"
   ]
  },
  {
   "cell_type": "code",
   "execution_count": 41,
   "id": "501debba",
   "metadata": {},
   "outputs": [
    {
     "data": {
      "text/plain": [
       "(0.9569566641435086, 0.9554194021486339)"
      ]
     },
     "execution_count": 41,
     "metadata": {},
     "output_type": "execute_result"
    }
   ],
   "source": [
    "(model1.rsquared,model1.rsquared_adj)"
   ]
  },
  {
   "cell_type": "code",
   "execution_count": 42,
   "id": "838a5fd8",
   "metadata": {},
   "outputs": [],
   "source": [
    "X_log = np.log(df['YearsExperience'])\n",
    "Y_log = np.log(df['Salary'])\n",
    "X_sqrt = np.sqrt(df['YearsExperience'])\n",
    "Y_sqrt = np.sqrt(df['Salary'])"
   ]
  },
  {
   "cell_type": "code",
   "execution_count": 43,
   "id": "7a9374fd",
   "metadata": {},
   "outputs": [],
   "source": [
    "df['log_years_of_experience'] = X_log\n",
    "df['log_salary'] = Y_log\n",
    "df['sqrt_years_of_experience'] = X_sqrt\n",
    "df['sqrt_salary'] = Y_sqrt"
   ]
  },
  {
   "cell_type": "code",
   "execution_count": 44,
   "id": "6e3ecec1",
   "metadata": {},
   "outputs": [
    {
     "data": {
      "text/html": [
       "<div>\n",
       "<style scoped>\n",
       "    .dataframe tbody tr th:only-of-type {\n",
       "        vertical-align: middle;\n",
       "    }\n",
       "\n",
       "    .dataframe tbody tr th {\n",
       "        vertical-align: top;\n",
       "    }\n",
       "\n",
       "    .dataframe thead th {\n",
       "        text-align: right;\n",
       "    }\n",
       "</style>\n",
       "<table border=\"1\" class=\"dataframe\">\n",
       "  <thead>\n",
       "    <tr style=\"text-align: right;\">\n",
       "      <th></th>\n",
       "      <th>YearsExperience</th>\n",
       "      <th>Salary</th>\n",
       "      <th>log_years_of_experience</th>\n",
       "      <th>log_salary</th>\n",
       "      <th>sqrt_years_of_experience</th>\n",
       "      <th>sqrt_salary</th>\n",
       "    </tr>\n",
       "  </thead>\n",
       "  <tbody>\n",
       "    <tr>\n",
       "      <th>0</th>\n",
       "      <td>1.1</td>\n",
       "      <td>39343.0</td>\n",
       "      <td>0.095310</td>\n",
       "      <td>10.580073</td>\n",
       "      <td>1.048809</td>\n",
       "      <td>198.350700</td>\n",
       "    </tr>\n",
       "    <tr>\n",
       "      <th>1</th>\n",
       "      <td>1.3</td>\n",
       "      <td>46205.0</td>\n",
       "      <td>0.262364</td>\n",
       "      <td>10.740843</td>\n",
       "      <td>1.140175</td>\n",
       "      <td>214.953483</td>\n",
       "    </tr>\n",
       "    <tr>\n",
       "      <th>2</th>\n",
       "      <td>1.5</td>\n",
       "      <td>37731.0</td>\n",
       "      <td>0.405465</td>\n",
       "      <td>10.538237</td>\n",
       "      <td>1.224745</td>\n",
       "      <td>194.244691</td>\n",
       "    </tr>\n",
       "    <tr>\n",
       "      <th>3</th>\n",
       "      <td>2.0</td>\n",
       "      <td>43525.0</td>\n",
       "      <td>0.693147</td>\n",
       "      <td>10.681091</td>\n",
       "      <td>1.414214</td>\n",
       "      <td>208.626460</td>\n",
       "    </tr>\n",
       "    <tr>\n",
       "      <th>4</th>\n",
       "      <td>2.2</td>\n",
       "      <td>39891.0</td>\n",
       "      <td>0.788457</td>\n",
       "      <td>10.593906</td>\n",
       "      <td>1.483240</td>\n",
       "      <td>199.727314</td>\n",
       "    </tr>\n",
       "    <tr>\n",
       "      <th>5</th>\n",
       "      <td>2.9</td>\n",
       "      <td>56642.0</td>\n",
       "      <td>1.064711</td>\n",
       "      <td>10.944506</td>\n",
       "      <td>1.702939</td>\n",
       "      <td>237.995798</td>\n",
       "    </tr>\n",
       "    <tr>\n",
       "      <th>6</th>\n",
       "      <td>3.0</td>\n",
       "      <td>60150.0</td>\n",
       "      <td>1.098612</td>\n",
       "      <td>11.004597</td>\n",
       "      <td>1.732051</td>\n",
       "      <td>245.254969</td>\n",
       "    </tr>\n",
       "    <tr>\n",
       "      <th>7</th>\n",
       "      <td>3.2</td>\n",
       "      <td>54445.0</td>\n",
       "      <td>1.163151</td>\n",
       "      <td>10.904946</td>\n",
       "      <td>1.788854</td>\n",
       "      <td>233.334524</td>\n",
       "    </tr>\n",
       "    <tr>\n",
       "      <th>8</th>\n",
       "      <td>3.2</td>\n",
       "      <td>64445.0</td>\n",
       "      <td>1.163151</td>\n",
       "      <td>11.073567</td>\n",
       "      <td>1.788854</td>\n",
       "      <td>253.860198</td>\n",
       "    </tr>\n",
       "    <tr>\n",
       "      <th>9</th>\n",
       "      <td>3.7</td>\n",
       "      <td>57189.0</td>\n",
       "      <td>1.308333</td>\n",
       "      <td>10.954117</td>\n",
       "      <td>1.923538</td>\n",
       "      <td>239.142217</td>\n",
       "    </tr>\n",
       "    <tr>\n",
       "      <th>10</th>\n",
       "      <td>3.9</td>\n",
       "      <td>63218.0</td>\n",
       "      <td>1.360977</td>\n",
       "      <td>11.054344</td>\n",
       "      <td>1.974842</td>\n",
       "      <td>251.431899</td>\n",
       "    </tr>\n",
       "    <tr>\n",
       "      <th>11</th>\n",
       "      <td>4.0</td>\n",
       "      <td>55794.0</td>\n",
       "      <td>1.386294</td>\n",
       "      <td>10.929422</td>\n",
       "      <td>2.000000</td>\n",
       "      <td>236.207536</td>\n",
       "    </tr>\n",
       "    <tr>\n",
       "      <th>12</th>\n",
       "      <td>4.0</td>\n",
       "      <td>56957.0</td>\n",
       "      <td>1.386294</td>\n",
       "      <td>10.950052</td>\n",
       "      <td>2.000000</td>\n",
       "      <td>238.656657</td>\n",
       "    </tr>\n",
       "    <tr>\n",
       "      <th>13</th>\n",
       "      <td>4.1</td>\n",
       "      <td>57081.0</td>\n",
       "      <td>1.410987</td>\n",
       "      <td>10.952227</td>\n",
       "      <td>2.024846</td>\n",
       "      <td>238.916303</td>\n",
       "    </tr>\n",
       "    <tr>\n",
       "      <th>14</th>\n",
       "      <td>4.5</td>\n",
       "      <td>61111.0</td>\n",
       "      <td>1.504077</td>\n",
       "      <td>11.020447</td>\n",
       "      <td>2.121320</td>\n",
       "      <td>247.206392</td>\n",
       "    </tr>\n",
       "    <tr>\n",
       "      <th>15</th>\n",
       "      <td>4.9</td>\n",
       "      <td>67938.0</td>\n",
       "      <td>1.589235</td>\n",
       "      <td>11.126351</td>\n",
       "      <td>2.213594</td>\n",
       "      <td>260.649190</td>\n",
       "    </tr>\n",
       "    <tr>\n",
       "      <th>16</th>\n",
       "      <td>5.1</td>\n",
       "      <td>66029.0</td>\n",
       "      <td>1.629241</td>\n",
       "      <td>11.097849</td>\n",
       "      <td>2.258318</td>\n",
       "      <td>256.961087</td>\n",
       "    </tr>\n",
       "    <tr>\n",
       "      <th>17</th>\n",
       "      <td>5.3</td>\n",
       "      <td>83088.0</td>\n",
       "      <td>1.667707</td>\n",
       "      <td>11.327656</td>\n",
       "      <td>2.302173</td>\n",
       "      <td>288.249892</td>\n",
       "    </tr>\n",
       "    <tr>\n",
       "      <th>18</th>\n",
       "      <td>5.9</td>\n",
       "      <td>81363.0</td>\n",
       "      <td>1.774952</td>\n",
       "      <td>11.306676</td>\n",
       "      <td>2.428992</td>\n",
       "      <td>285.242003</td>\n",
       "    </tr>\n",
       "    <tr>\n",
       "      <th>19</th>\n",
       "      <td>6.0</td>\n",
       "      <td>93940.0</td>\n",
       "      <td>1.791759</td>\n",
       "      <td>11.450412</td>\n",
       "      <td>2.449490</td>\n",
       "      <td>306.496330</td>\n",
       "    </tr>\n",
       "    <tr>\n",
       "      <th>20</th>\n",
       "      <td>6.8</td>\n",
       "      <td>91738.0</td>\n",
       "      <td>1.916923</td>\n",
       "      <td>11.426692</td>\n",
       "      <td>2.607681</td>\n",
       "      <td>302.882816</td>\n",
       "    </tr>\n",
       "    <tr>\n",
       "      <th>21</th>\n",
       "      <td>7.1</td>\n",
       "      <td>98273.0</td>\n",
       "      <td>1.960095</td>\n",
       "      <td>11.495505</td>\n",
       "      <td>2.664583</td>\n",
       "      <td>313.485247</td>\n",
       "    </tr>\n",
       "    <tr>\n",
       "      <th>22</th>\n",
       "      <td>7.9</td>\n",
       "      <td>101302.0</td>\n",
       "      <td>2.066863</td>\n",
       "      <td>11.525861</td>\n",
       "      <td>2.810694</td>\n",
       "      <td>318.279751</td>\n",
       "    </tr>\n",
       "    <tr>\n",
       "      <th>23</th>\n",
       "      <td>8.2</td>\n",
       "      <td>113812.0</td>\n",
       "      <td>2.104134</td>\n",
       "      <td>11.642303</td>\n",
       "      <td>2.863564</td>\n",
       "      <td>337.360341</td>\n",
       "    </tr>\n",
       "    <tr>\n",
       "      <th>24</th>\n",
       "      <td>8.7</td>\n",
       "      <td>109431.0</td>\n",
       "      <td>2.163323</td>\n",
       "      <td>11.603049</td>\n",
       "      <td>2.949576</td>\n",
       "      <td>330.803567</td>\n",
       "    </tr>\n",
       "    <tr>\n",
       "      <th>25</th>\n",
       "      <td>9.0</td>\n",
       "      <td>105582.0</td>\n",
       "      <td>2.197225</td>\n",
       "      <td>11.567243</td>\n",
       "      <td>3.000000</td>\n",
       "      <td>324.933839</td>\n",
       "    </tr>\n",
       "    <tr>\n",
       "      <th>26</th>\n",
       "      <td>9.5</td>\n",
       "      <td>116969.0</td>\n",
       "      <td>2.251292</td>\n",
       "      <td>11.669664</td>\n",
       "      <td>3.082207</td>\n",
       "      <td>342.007310</td>\n",
       "    </tr>\n",
       "    <tr>\n",
       "      <th>27</th>\n",
       "      <td>9.6</td>\n",
       "      <td>112635.0</td>\n",
       "      <td>2.261763</td>\n",
       "      <td>11.631908</td>\n",
       "      <td>3.098387</td>\n",
       "      <td>335.611382</td>\n",
       "    </tr>\n",
       "    <tr>\n",
       "      <th>28</th>\n",
       "      <td>10.3</td>\n",
       "      <td>122391.0</td>\n",
       "      <td>2.332144</td>\n",
       "      <td>11.714976</td>\n",
       "      <td>3.209361</td>\n",
       "      <td>349.844251</td>\n",
       "    </tr>\n",
       "    <tr>\n",
       "      <th>29</th>\n",
       "      <td>10.5</td>\n",
       "      <td>121872.0</td>\n",
       "      <td>2.351375</td>\n",
       "      <td>11.710727</td>\n",
       "      <td>3.240370</td>\n",
       "      <td>349.101704</td>\n",
       "    </tr>\n",
       "  </tbody>\n",
       "</table>\n",
       "</div>"
      ],
      "text/plain": [
       "    YearsExperience    Salary  log_years_of_experience  log_salary  \\\n",
       "0               1.1   39343.0                 0.095310   10.580073   \n",
       "1               1.3   46205.0                 0.262364   10.740843   \n",
       "2               1.5   37731.0                 0.405465   10.538237   \n",
       "3               2.0   43525.0                 0.693147   10.681091   \n",
       "4               2.2   39891.0                 0.788457   10.593906   \n",
       "5               2.9   56642.0                 1.064711   10.944506   \n",
       "6               3.0   60150.0                 1.098612   11.004597   \n",
       "7               3.2   54445.0                 1.163151   10.904946   \n",
       "8               3.2   64445.0                 1.163151   11.073567   \n",
       "9               3.7   57189.0                 1.308333   10.954117   \n",
       "10              3.9   63218.0                 1.360977   11.054344   \n",
       "11              4.0   55794.0                 1.386294   10.929422   \n",
       "12              4.0   56957.0                 1.386294   10.950052   \n",
       "13              4.1   57081.0                 1.410987   10.952227   \n",
       "14              4.5   61111.0                 1.504077   11.020447   \n",
       "15              4.9   67938.0                 1.589235   11.126351   \n",
       "16              5.1   66029.0                 1.629241   11.097849   \n",
       "17              5.3   83088.0                 1.667707   11.327656   \n",
       "18              5.9   81363.0                 1.774952   11.306676   \n",
       "19              6.0   93940.0                 1.791759   11.450412   \n",
       "20              6.8   91738.0                 1.916923   11.426692   \n",
       "21              7.1   98273.0                 1.960095   11.495505   \n",
       "22              7.9  101302.0                 2.066863   11.525861   \n",
       "23              8.2  113812.0                 2.104134   11.642303   \n",
       "24              8.7  109431.0                 2.163323   11.603049   \n",
       "25              9.0  105582.0                 2.197225   11.567243   \n",
       "26              9.5  116969.0                 2.251292   11.669664   \n",
       "27              9.6  112635.0                 2.261763   11.631908   \n",
       "28             10.3  122391.0                 2.332144   11.714976   \n",
       "29             10.5  121872.0                 2.351375   11.710727   \n",
       "\n",
       "    sqrt_years_of_experience  sqrt_salary  \n",
       "0                   1.048809   198.350700  \n",
       "1                   1.140175   214.953483  \n",
       "2                   1.224745   194.244691  \n",
       "3                   1.414214   208.626460  \n",
       "4                   1.483240   199.727314  \n",
       "5                   1.702939   237.995798  \n",
       "6                   1.732051   245.254969  \n",
       "7                   1.788854   233.334524  \n",
       "8                   1.788854   253.860198  \n",
       "9                   1.923538   239.142217  \n",
       "10                  1.974842   251.431899  \n",
       "11                  2.000000   236.207536  \n",
       "12                  2.000000   238.656657  \n",
       "13                  2.024846   238.916303  \n",
       "14                  2.121320   247.206392  \n",
       "15                  2.213594   260.649190  \n",
       "16                  2.258318   256.961087  \n",
       "17                  2.302173   288.249892  \n",
       "18                  2.428992   285.242003  \n",
       "19                  2.449490   306.496330  \n",
       "20                  2.607681   302.882816  \n",
       "21                  2.664583   313.485247  \n",
       "22                  2.810694   318.279751  \n",
       "23                  2.863564   337.360341  \n",
       "24                  2.949576   330.803567  \n",
       "25                  3.000000   324.933839  \n",
       "26                  3.082207   342.007310  \n",
       "27                  3.098387   335.611382  \n",
       "28                  3.209361   349.844251  \n",
       "29                  3.240370   349.101704  "
      ]
     },
     "execution_count": 44,
     "metadata": {},
     "output_type": "execute_result"
    }
   ],
   "source": [
    "df"
   ]
  },
  {
   "cell_type": "code",
   "execution_count": 45,
   "id": "09cd0165",
   "metadata": {},
   "outputs": [
    {
     "name": "stdout",
     "output_type": "stream",
     "text": [
      "Intercept                   2.895135\n",
      "log_years_of_experience    12.791989\n",
      "dtype: float64 \n",
      " Intercept                  7.268813e-03\n",
      "log_years_of_experience    3.250155e-13\n",
      "dtype: float64\n",
      "rsquared value is 0.853888882875697 using log transformation on input variable\n"
     ]
    }
   ],
   "source": [
    "model_log_x = smf.ols(\"Salary~log_years_of_experience\",data = df).fit()\n",
    "print(model_log_x.tvalues, '\\n' ,model_log_x.pvalues)\n",
    "print('rsquared value is {} using log transformation on input variable'.format(model_log_x.rsquared,model_log_x.rsquared_adj))"
   ]
  },
  {
   "cell_type": "code",
   "execution_count": 46,
   "id": "1944a1fe",
   "metadata": {},
   "outputs": [
    {
     "name": "stdout",
     "output_type": "stream",
     "text": [
      "Intercept          273.327166\n",
      "YearsExperience     19.584833\n",
      "dtype: float64 \n",
      " Intercept          1.604634e-49\n",
      "YearsExperience    7.027439e-18\n",
      "dtype: float64\n",
      "rsquared value is 0.9319671194084196 using log transformation on tagrt variable\n"
     ]
    }
   ],
   "source": [
    "model_log_y = smf.ols(\"log_salary~YearsExperience\",data = df).fit()\n",
    "print(model_log_y.tvalues, '\\n' ,model_log_y.pvalues)\n",
    "print('rsquared value is {} using log transformation on tagrt variable'.format(model_log_y.rsquared,model_log_y.rsquared_adj))"
   ]
  },
  {
   "cell_type": "code",
   "execution_count": 47,
   "id": "09ad632a",
   "metadata": {},
   "outputs": [
    {
     "name": "stdout",
     "output_type": "stream",
     "text": [
      "Intercept                  184.867959\n",
      "log_years_of_experience     16.352542\n",
      "dtype: float64 \n",
      " Intercept                  9.073132e-45\n",
      "log_years_of_experience    7.395278e-16\n",
      "dtype: float64\n",
      "rsquared value is 0.905215072581715 using log transformation on tagrt and input variable\n"
     ]
    }
   ],
   "source": [
    "model_log_x_y = smf.ols(\"log_salary~log_years_of_experience\",data = df).fit()\n",
    "print(model_log_x_y.tvalues, '\\n' ,model_log_x_y.pvalues)\n",
    "print('rsquared value is {} using log transformation on tagrt and input variable'.format(model_log_x_y.rsquared,model_log_x_y.rsquared_adj))"
   ]
  },
  {
   "cell_type": "code",
   "execution_count": 48,
   "id": "579f714c",
   "metadata": {},
   "outputs": [
    {
     "name": "stdout",
     "output_type": "stream",
     "text": [
      "Intercept                   -3.262308\n",
      "sqrt_years_of_experience    19.437148\n",
      "dtype: float64 \n",
      " Intercept                   2.906965e-03\n",
      "sqrt_years_of_experience    8.565358e-18\n",
      "dtype: float64\n",
      "rsquared value is 0.9310009544993526 using sqrt transformation on input variable\n"
     ]
    }
   ],
   "source": [
    "model_sqrt_x = smf.ols(\"Salary~sqrt_years_of_experience\",data = df).fit()\n",
    "print(model_sqrt_x.tvalues, '\\n' ,model_sqrt_x.pvalues)\n",
    "print('rsquared value is {} using sqrt transformation on input variable'.format(model_sqrt_x.rsquared,model_sqrt_x.rsquared_adj))"
   ]
  },
  {
   "cell_type": "code",
   "execution_count": 49,
   "id": "9a59fb5c",
   "metadata": {},
   "outputs": [
    {
     "name": "stdout",
     "output_type": "stream",
     "text": [
      "Intercept          40.646251\n",
      "YearsExperience    23.025247\n",
      "dtype: float64 \n",
      " Intercept          1.920194e-26\n",
      "YearsExperience    9.782891e-20\n",
      "dtype: float64\n",
      "rsquared value is 0.9498353533865289 using sqrt transformation on target variable\n"
     ]
    }
   ],
   "source": [
    "model_sqrt_y = smf.ols(\"sqrt_salary~YearsExperience\",data = df).fit()\n",
    "print(model_sqrt_y.tvalues, '\\n' ,model_sqrt_y.pvalues)\n",
    "print('rsquared value is {} using sqrt transformation on target variable'.format(model_sqrt_y.rsquared,model_sqrt_y.rsquared_adj))"
   ]
  },
  {
   "cell_type": "code",
   "execution_count": 50,
   "id": "7789e43c",
   "metadata": {},
   "outputs": [
    {
     "name": "stdout",
     "output_type": "stream",
     "text": [
      "Intercept                   12.663496\n",
      "sqrt_years_of_experience    21.315126\n",
      "dtype: float64 \n",
      " Intercept                   4.141645e-13\n",
      "sqrt_years_of_experience    7.584326e-19\n",
      "dtype: float64\n",
      "rsquared value is 0.9419490138976825 using sqrt transformation on both target anf input variable\n"
     ]
    }
   ],
   "source": [
    "model_sqrt_x_y = smf.ols(\"sqrt_salary~sqrt_years_of_experience\",data = df).fit()\n",
    "print(model_sqrt_x_y.tvalues, '\\n' ,model_sqrt_x_y.pvalues)\n",
    "print('rsquared value is {} using sqrt transformation on both target anf input variable'.format(model_sqrt_x_y.rsquared,model_sqrt_x_y.rsquared_adj))"
   ]
  },
  {
   "cell_type": "markdown",
   "id": "1a54353c",
   "metadata": {},
   "source": [
    "### From the above observations or transformations we can see how with the without transformation gives us the better R squared value"
   ]
  },
  {
   "cell_type": "markdown",
   "id": "9fd5c10a",
   "metadata": {},
   "source": [
    "##  Predicting for new datapoint"
   ]
  },
  {
   "cell_type": "code",
   "execution_count": 51,
   "id": "99975eaf",
   "metadata": {},
   "outputs": [],
   "source": [
    "new_df = pd.Series([5,7])"
   ]
  },
  {
   "cell_type": "code",
   "execution_count": 52,
   "id": "5c652e2a",
   "metadata": {},
   "outputs": [
    {
     "data": {
      "text/html": [
       "<div>\n",
       "<style scoped>\n",
       "    .dataframe tbody tr th:only-of-type {\n",
       "        vertical-align: middle;\n",
       "    }\n",
       "\n",
       "    .dataframe tbody tr th {\n",
       "        vertical-align: top;\n",
       "    }\n",
       "\n",
       "    .dataframe thead th {\n",
       "        text-align: right;\n",
       "    }\n",
       "</style>\n",
       "<table border=\"1\" class=\"dataframe\">\n",
       "  <thead>\n",
       "    <tr style=\"text-align: right;\">\n",
       "      <th></th>\n",
       "      <th>YearsExperience</th>\n",
       "    </tr>\n",
       "  </thead>\n",
       "  <tbody>\n",
       "    <tr>\n",
       "      <th>0</th>\n",
       "      <td>5</td>\n",
       "    </tr>\n",
       "    <tr>\n",
       "      <th>1</th>\n",
       "      <td>7</td>\n",
       "    </tr>\n",
       "  </tbody>\n",
       "</table>\n",
       "</div>"
      ],
      "text/plain": [
       "   YearsExperience\n",
       "0                5\n",
       "1                7"
      ]
     },
     "execution_count": 52,
     "metadata": {},
     "output_type": "execute_result"
    }
   ],
   "source": [
    "data_pred1 =pd.DataFrame(new_df,columns=['YearsExperience'])\n",
    "data_pred1"
   ]
  },
  {
   "cell_type": "code",
   "execution_count": 53,
   "id": "8cbe8838",
   "metadata": {},
   "outputs": [
    {
     "data": {
      "text/plain": [
       "0    73042.011806\n",
       "1    91941.936449\n",
       "dtype: float64"
      ]
     },
     "execution_count": 53,
     "metadata": {},
     "output_type": "execute_result"
    }
   ],
   "source": [
    "model1.predict(data_pred1)"
   ]
  },
  {
   "cell_type": "code",
   "execution_count": null,
   "id": "3a1ddd92",
   "metadata": {},
   "outputs": [],
   "source": []
  }
 ],
 "metadata": {
  "kernelspec": {
   "display_name": "Python 3 (ipykernel)",
   "language": "python",
   "name": "python3"
  },
  "language_info": {
   "codemirror_mode": {
    "name": "ipython",
    "version": 3
   },
   "file_extension": ".py",
   "mimetype": "text/x-python",
   "name": "python",
   "nbconvert_exporter": "python",
   "pygments_lexer": "ipython3",
   "version": "3.9.12"
  }
 },
 "nbformat": 4,
 "nbformat_minor": 5
}
